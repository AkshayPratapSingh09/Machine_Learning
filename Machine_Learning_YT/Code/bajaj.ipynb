{
  "cells": [
    {
      "cell_type": "code",
      "execution_count": 1,
      "metadata": {
        "colab": {
          "base_uri": "https://localhost:8080/"
        },
        "id": "VbeUTezgapJM",
        "outputId": "be0420e6-e3de-46ea-f25a-a88e680428fe"
      },
      "outputs": [
        {
          "name": "stdout",
          "output_type": "stream",
          "text": [
            "Hello World\n"
          ]
        }
      ],
      "source": [
        "print(\"Hello World\")"
      ]
    },
    {
      "cell_type": "code",
      "execution_count": 2,
      "metadata": {
        "id": "l3Y-ldvGa1Ll"
      },
      "outputs": [],
      "source": [
        "import numpy as np\n",
        "import pandas as pd\n",
        "from sklearn.model_selection import train_test_split\n",
        "import matplotlib.pyplot as plt\n",
        "\n"
      ]
    },
    {
      "cell_type": "code",
      "execution_count": 3,
      "metadata": {
        "colab": {
          "base_uri": "https://localhost:8080/",
          "height": 345
        },
        "id": "3-wK0D6JbEVd",
        "outputId": "f9f3b604-b91f-4f3b-c838-2acd8f7bcf17"
      },
      "outputs": [],
      "source": [
        "#Read Data\n",
        "data = pd.read_csv(\"bajaj_data.csv\")"
      ]
    },
    {
      "cell_type": "code",
      "execution_count": 8,
      "metadata": {},
      "outputs": [
        {
          "data": {
            "text/plain": [
              "Index(['Date', 'Open', 'High', 'Low', 'Close', 'Adj Close', 'Volume'], dtype='object')"
            ]
          },
          "execution_count": 8,
          "metadata": {},
          "output_type": "execute_result"
        }
      ],
      "source": [
        "#Gives Columns info\n",
        "data.columns"
      ]
    },
    {
      "cell_type": "code",
      "execution_count": 9,
      "metadata": {},
      "outputs": [
        {
          "data": {
            "text/plain": [
              "RangeIndex(start=0, stop=20, step=1)"
            ]
          },
          "execution_count": 9,
          "metadata": {},
          "output_type": "execute_result"
        }
      ],
      "source": [
        "#Gives info about starting and trend in index\n",
        "data.index"
      ]
    },
    {
      "cell_type": "code",
      "execution_count": 10,
      "metadata": {},
      "outputs": [
        {
          "data": {
            "text/html": [
              "<div>\n",
              "<style scoped>\n",
              "    .dataframe tbody tr th:only-of-type {\n",
              "        vertical-align: middle;\n",
              "    }\n",
              "\n",
              "    .dataframe tbody tr th {\n",
              "        vertical-align: top;\n",
              "    }\n",
              "\n",
              "    .dataframe thead th {\n",
              "        text-align: right;\n",
              "    }\n",
              "</style>\n",
              "<table border=\"1\" class=\"dataframe\">\n",
              "  <thead>\n",
              "    <tr style=\"text-align: right;\">\n",
              "      <th></th>\n",
              "      <th>Open</th>\n",
              "      <th>High</th>\n",
              "      <th>Low</th>\n",
              "      <th>Close</th>\n",
              "      <th>Adj Close</th>\n",
              "      <th>Volume</th>\n",
              "    </tr>\n",
              "  </thead>\n",
              "  <tbody>\n",
              "    <tr>\n",
              "      <th>count</th>\n",
              "      <td>20.000000</td>\n",
              "      <td>20.000000</td>\n",
              "      <td>20.000000</td>\n",
              "      <td>20.000000</td>\n",
              "      <td>20.000000</td>\n",
              "      <td>20.000000</td>\n",
              "    </tr>\n",
              "    <tr>\n",
              "      <th>mean</th>\n",
              "      <td>15855.970068</td>\n",
              "      <td>16110.102588</td>\n",
              "      <td>15676.242480</td>\n",
              "      <td>15921.420117</td>\n",
              "      <td>15921.420117</td>\n",
              "      <td>401926.800000</td>\n",
              "    </tr>\n",
              "    <tr>\n",
              "      <th>std</th>\n",
              "      <td>583.877221</td>\n",
              "      <td>642.167915</td>\n",
              "      <td>530.925374</td>\n",
              "      <td>590.352758</td>\n",
              "      <td>590.352758</td>\n",
              "      <td>203632.401174</td>\n",
              "    </tr>\n",
              "    <tr>\n",
              "      <th>min</th>\n",
              "      <td>15000.000000</td>\n",
              "      <td>15250.000000</td>\n",
              "      <td>14861.349609</td>\n",
              "      <td>15073.099609</td>\n",
              "      <td>15073.099609</td>\n",
              "      <td>152219.000000</td>\n",
              "    </tr>\n",
              "    <tr>\n",
              "      <th>25%</th>\n",
              "      <td>15314.250000</td>\n",
              "      <td>15543.487549</td>\n",
              "      <td>15100.262207</td>\n",
              "      <td>15458.962891</td>\n",
              "      <td>15458.962891</td>\n",
              "      <td>262102.000000</td>\n",
              "    </tr>\n",
              "    <tr>\n",
              "      <th>50%</th>\n",
              "      <td>15807.450195</td>\n",
              "      <td>16080.000000</td>\n",
              "      <td>15706.100097</td>\n",
              "      <td>15893.725097</td>\n",
              "      <td>15893.725097</td>\n",
              "      <td>365487.000000</td>\n",
              "    </tr>\n",
              "    <tr>\n",
              "      <th>75%</th>\n",
              "      <td>16318.750000</td>\n",
              "      <td>16539.125000</td>\n",
              "      <td>16138.812500</td>\n",
              "      <td>16291.674805</td>\n",
              "      <td>16291.674805</td>\n",
              "      <td>453679.250000</td>\n",
              "    </tr>\n",
              "    <tr>\n",
              "      <th>max</th>\n",
              "      <td>16880.000000</td>\n",
              "      <td>17141.500000</td>\n",
              "      <td>16620.650391</td>\n",
              "      <td>16962.150391</td>\n",
              "      <td>16962.150391</td>\n",
              "      <td>943581.000000</td>\n",
              "    </tr>\n",
              "  </tbody>\n",
              "</table>\n",
              "</div>"
            ],
            "text/plain": [
              "               Open          High           Low         Close     Adj Close  \\\n",
              "count     20.000000     20.000000     20.000000     20.000000     20.000000   \n",
              "mean   15855.970068  16110.102588  15676.242480  15921.420117  15921.420117   \n",
              "std      583.877221    642.167915    530.925374    590.352758    590.352758   \n",
              "min    15000.000000  15250.000000  14861.349609  15073.099609  15073.099609   \n",
              "25%    15314.250000  15543.487549  15100.262207  15458.962891  15458.962891   \n",
              "50%    15807.450195  16080.000000  15706.100097  15893.725097  15893.725097   \n",
              "75%    16318.750000  16539.125000  16138.812500  16291.674805  16291.674805   \n",
              "max    16880.000000  17141.500000  16620.650391  16962.150391  16962.150391   \n",
              "\n",
              "              Volume  \n",
              "count      20.000000  \n",
              "mean   401926.800000  \n",
              "std    203632.401174  \n",
              "min    152219.000000  \n",
              "25%    262102.000000  \n",
              "50%    365487.000000  \n",
              "75%    453679.250000  \n",
              "max    943581.000000  "
            ]
          },
          "execution_count": 10,
          "metadata": {},
          "output_type": "execute_result"
        }
      ],
      "source": [
        "#Gives overall info about the data\n",
        "data.describe()"
      ]
    },
    {
      "cell_type": "code",
      "execution_count": 11,
      "metadata": {
        "colab": {
          "base_uri": "https://localhost:8080/",
          "height": 1000
        },
        "id": "1lfvf3OtbKoL",
        "outputId": "0cb8672c-5230-46b5-9eff-0f0a34f11414"
      },
      "outputs": [
        {
          "data": {
            "text/plain": [
              "Date          object\n",
              "Open         float64\n",
              "High         float64\n",
              "Low          float64\n",
              "Close        float64\n",
              "Adj Close    float64\n",
              "Volume         int64\n",
              "dtype: object"
            ]
          },
          "execution_count": 11,
          "metadata": {},
          "output_type": "execute_result"
        }
      ],
      "source": [
        "#Gives data about datatypes of all the columns\n",
        "data.dtypes"
      ]
    },
    {
      "cell_type": "code",
      "execution_count": 12,
      "metadata": {},
      "outputs": [
        {
          "name": "stdout",
          "output_type": "stream",
          "text": [
            "<class 'pandas.core.frame.DataFrame'>\n",
            "RangeIndex: 20 entries, 0 to 19\n",
            "Data columns (total 7 columns):\n",
            " #   Column     Non-Null Count  Dtype  \n",
            "---  ------     --------------  -----  \n",
            " 0   Date       20 non-null     object \n",
            " 1   Open       20 non-null     float64\n",
            " 2   High       20 non-null     float64\n",
            " 3   Low        20 non-null     float64\n",
            " 4   Close      20 non-null     float64\n",
            " 5   Adj Close  20 non-null     float64\n",
            " 6   Volume     20 non-null     int64  \n",
            "dtypes: float64(5), int64(1), object(1)\n",
            "memory usage: 1.2+ KB\n"
          ]
        }
      ],
      "source": [
        "\n",
        "data.info()"
      ]
    },
    {
      "cell_type": "code",
      "execution_count": 13,
      "metadata": {},
      "outputs": [
        {
          "name": "stderr",
          "output_type": "stream",
          "text": [
            "C:\\Users\\Ap\\AppData\\Local\\Temp\\ipykernel_33848\\531903386.py:1: FutureWarning: Dropping of nuisance columns in DataFrame reductions (with 'numeric_only=None') is deprecated; in a future version this will raise TypeError.  Select only valid columns before calling the reduction.\n",
            "  data.mean()\n"
          ]
        },
        {
          "data": {
            "text/plain": [
              "Open          15855.970068\n",
              "High          16110.102588\n",
              "Low           15676.242480\n",
              "Close         15921.420117\n",
              "Adj Close     15921.420117\n",
              "Volume       401926.800000\n",
              "dtype: float64"
            ]
          },
          "execution_count": 13,
          "metadata": {},
          "output_type": "execute_result"
        }
      ],
      "source": [
        "data.mean()"
      ]
    },
    {
      "cell_type": "code",
      "execution_count": 14,
      "metadata": {},
      "outputs": [
        {
          "data": {
            "text/plain": [
              "Date         2022-08-012022-08-022022-08-032022-08-042022-0...\n",
              "Open                                             317119.401367\n",
              "High                                             322202.051758\n",
              "Low                                              313524.849608\n",
              "Close                                            318428.402344\n",
              "Adj Close                                        318428.402344\n",
              "Volume                                                 8038536\n",
              "dtype: object"
            ]
          },
          "execution_count": 14,
          "metadata": {},
          "output_type": "execute_result"
        }
      ],
      "source": [
        "data.sum()"
      ]
    },
    {
      "cell_type": "code",
      "execution_count": 15,
      "metadata": {},
      "outputs": [
        {
          "data": {
            "text/plain": [
              "8038536"
            ]
          },
          "execution_count": 15,
          "metadata": {},
          "output_type": "execute_result"
        }
      ],
      "source": [
        "data[\"Volume\"].sum()"
      ]
    },
    {
      "cell_type": "code",
      "execution_count": 5,
      "metadata": {
        "id": "IQ0_P4OxbNc6"
      },
      "outputs": [],
      "source": [
        "# X = data[\"Date\"]\n",
        "# Y = data[\"Close\"]\n"
      ]
    },
    {
      "cell_type": "code",
      "execution_count": 11,
      "metadata": {
        "colab": {
          "base_uri": "https://localhost:8080/",
          "height": 265
        },
        "id": "DhDciHbLbajF",
        "outputId": "0050223d-4132-458c-fa77-e71273dbd0fc"
      },
      "outputs": [
        {
          "data": {
            "image/png": "[encoded data removed]",
            "text/plain": [
              "<Figure size 432x288 with 1 Axes>"
            ]
          },
          "metadata": {
            "needs_background": "light"
          },
          "output_type": "display_data"
        }
      ],
      "source": [
        "# plt.plot(X,Y)\n",
        "# plt.show()"
      ]
    },
    {
      "cell_type": "code",
      "execution_count": 7,
      "metadata": {
        "colab": {
          "base_uri": "https://localhost:8080/",
          "height": 304
        },
        "id": "K24cD4Wpbsib",
        "outputId": "7ffd5033-4144-4d6b-ad20-3745ca76d01e"
      },
      "outputs": [
        {
          "data": {
            "text/plain": [
              "dtype('O')"
            ]
          },
          "execution_count": 7,
          "metadata": {},
          "output_type": "execute_result"
        }
      ],
      "source": [
        "X.dtypes"
      ]
    },
    {
      "cell_type": "code",
      "execution_count": 17,
      "metadata": {
        "colab": {
          "base_uri": "https://localhost:8080/",
          "height": 165
        },
        "id": "WxS6yFnjcLi9",
        "outputId": "c10a477e-f728-471f-cec1-57775f90cc74"
      },
      "outputs": [
        {
          "data": {
            "text/plain": [
              "count             20\n",
              "unique            20\n",
              "top       2022-08-01\n",
              "freq               1\n",
              "Name: Date, dtype: object"
            ]
          },
          "execution_count": 17,
          "metadata": {},
          "output_type": "execute_result"
        }
      ],
      "source": [
        "data[\"Date\"].describe()"
      ]
    },
    {
      "cell_type": "code",
      "execution_count": null,
      "metadata": {
        "id": "3FMdpUaHcmZB"
      },
      "outputs": [],
      "source": []
    }
  ],
  "metadata": {
    "colab": {
      "provenance": []
    },
    "kernelspec": {
      "display_name": "Python 3.9.13 64-bit (microsoft store)",
      "language": "python",
      "name": "python3"
    },
    "language_info": {
      "codemirror_mode": {
        "name": "ipython",
        "version": 3
      },
      "file_extension": ".py",
      "mimetype": "text/x-python",
      "name": "python",
      "nbconvert_exporter": "python",
      "pygments_lexer": "ipython3",
      "version": "3.9.13"
    },
    "vscode": {
      "interpreter": {
        "hash": "d1054cff3a40a1343838369cef95f0b4172d599c88407d03e996024ad6aac4bd"
      }
    }
  },
  "nbformat": 4,
  "nbformat_minor": 0
}
